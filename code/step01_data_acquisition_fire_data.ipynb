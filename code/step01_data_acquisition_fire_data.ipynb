{
 "cells": [
  {
   "cell_type": "markdown",
   "metadata": {},
   "source": [
    "# Course Project: Wildfire Analysis (Part 1: Common Analysis)\n",
    "\n",
    "## Data Acquisition\n",
    "\n",
    "More and more frequently summers in the western US have been characterized by wildfires with smoke billowing across multiple western states. There are many proposed causes for this: climate change, US Forestry policy, growing awareness, just to name a few. Regardless of the cause, the impact of wildland fires is widespread as wildfire smoke reduces the air quality of many cities. There is a growing body of work pointing to the negative impacts of smoke on health, tourism, property, and other aspects of society.\n",
    "\n",
    "The Course Project is designed to analyze the impacts of wildfires on specific cities in the United States, particularly focusing on the effects of wildfire smoke and its implications for public health, air quality, and overall community well-being.\n",
    "\n",
    "This is the first step in the project, where all the students conduct a base analysis using a shared dataset while focusing on a unique city. The aim is to create an understanding of wildfire impacts tailored to local contexts.\n",
    "\n",
    "In this notebook, we primarily obtain the Access to the historical data of wildfires, and compute the average distance between the city assigned to me and the fire perimeter as this is required to obtain the smoke estimate. We will talk more about this estimate in the next notebook.\n",
    "\n",
    "**License**:\n",
    "Many of the snippets used here was developed by Dr. David W. McDonald for use in DATA 512, a course in the UW MS Data Science degree program. This code is provided under the [Creative Commons](https://creativecommons.org) [CC-BY license](https://creativecommons.org/licenses/by/4.0/). Revision 1.1 - August 16, 2024\n",
    "\n",
    "## 1. Import libraries and required dependencies"
   ]
  },
  {
   "cell_type": "code",
   "execution_count": 1,
   "metadata": {},
   "outputs": [],
   "source": [
    "# !pip install pyproj"
   ]
  },
  {
   "cell_type": "code",
   "execution_count": 2,
   "metadata": {},
   "outputs": [],
   "source": [
    "# Import some standard python modules\n",
    "import json\n",
    "\n",
    "# The module pyproj is a standard module that can be installed using pip or your other favorite \n",
    "# installation tool. This module provides tools to convert between different geodesic coordinate systems\n",
    "# and for calculating distances between points (coordinates) in a specific geodesic system.\n",
    "from pyproj import Transformer, Geod\n",
    "\n",
    "# The 'wildfire' module is a user module. This module is available from the course website. The module\n",
    "# includes one object, a Reader, that can be used to read the GeoJSON files associated with the\n",
    "# wildefire dataset. The module also contains a sample datafile that is GeoJSON compliant and that\n",
    "# contains a small number of wildfires extracted from the main wildfire dataset.   \n",
    "from wildfire.Reader import Reader as WFReader\n",
    "\n",
    "# import pandas - we will have the valid attributes finally as a csv\n",
    "import pandas as pd\n",
    "\n",
    "# For better readability, I clear the cell output when running code in batches\n",
    "from IPython.display import clear_output"
   ]
  },
  {
   "cell_type": "markdown",
   "metadata": {},
   "source": [
    "I have been assigned to analyse the city: Vancouver, WA for my analysis\n",
    "- 2023 estimate: 196442\n",
    "- 2020 census: 190915\n",
    "- 2020 density: 3920\n",
    "- Latitude/Longitude: 45.64°N 122.60°W"
   ]
  },
  {
   "cell_type": "code",
   "execution_count": 3,
   "metadata": {},
   "outputs": [
    {
     "name": "stdout",
     "output_type": "stream",
     "text": [
      "DATA_FILENAME='../data/input_data/USGS_Wildland_Fire_Combined_Dataset.json'\n"
     ]
    }
   ],
   "source": [
    "#    CONSTANTS\n",
    "#\n",
    "#    The 'Wildfire_short_sample_2024.json' is an extraction from the full 'USGS_Wildland_Fire_Combined_Dataset.json'\n",
    "#    dataset extracting several major wildfires in California, plus a couple others that have interested data structure\n",
    "#    features. \n",
    "#\n",
    "#    The sample file includes data for 15 fires, mostly oriented around the uniqueness of the name. Naming conventions\n",
    "#    for wildfires is really adhoc, which makes finding any named fire in the dataset a disambiguation mess. The named\n",
    "#    fires were selected from https://en.wikipedia.org/wiki/List_of_California_wildfires\n",
    "#\n",
    "#    The point nof the sample is to provide something small to test with before committing to processing the, much \n",
    "#    larger, full dataset.\n",
    "#\n",
    "EXTRACT_FILENAME = \"../data/input_data/USGS_Wildland_Fire_Combined_Dataset.json\"\n",
    "DATA_FILENAME = EXTRACT_FILENAME\n",
    "#\n",
    "# print out where we think we're going to find the sample data\n",
    "print(f\"{DATA_FILENAME=}\")\n",
    "\n",
    "# A dictionary of city location from the US west coast states.\n",
    "CITY_LOCATIONS = {\n",
    "    'vancouver' :     {'city'   : 'Vancouver',\n",
    "                       'latlon' : [45.64, -122.60] }\n",
    "}"
   ]
  },
  {
   "cell_type": "markdown",
   "metadata": {},
   "source": [
    "## 2. Data Acquisition\n",
    "\n",
    "The primary dataset used in this project is the [Combined Wildland Fire Datasets for the United States and Certain Territories (1800s-Present)](https://www.sciencebase.gov/catalog/item/61aa537dd34eb622f699df81), which is sourced from the US Geological Survey (USGS). This dataset is particularly notable for several key characteristics:\n",
    "- **Comprehensive:** It merges data from 40 different sources into a single dataset that provides detailed information on wildfires and prescribed fires across the United States from the mid-1800s to the present.\n",
    "- **Geographic Coverage:** Includes entire United States and certain territories, making it applicable for a variety of urban analyses.\n",
    "- **Variables Included:** The dataset includes essential attributes such as: Fire Name, Ignition Date, Controlled Date, Containment Date, Fire Cause, Fire Polygons\n",
    "-  **Temporal Range:** The dataset covers a long historical period, allowing for analyses of trends over time and the assessment of changes in wildfire patterns and impacts.\n",
    "- **Summary Statistics:** It provides spatial summary statistics, such as the frequency of fires in specific geographic areas, enabling a more robust analysis of smoke impacts on communities over the years.\n",
    "- **Data Formats:** Available in both ArcGIS and GeoJSON formats, making it accessible for various data processing and geographic information system (GIS) applications.\n",
    "\n",
    "The dataset is intended for public use, allowing researchers, students, and policymakers to access and analyze data related to wildfires.​ Users are encouraged to employ the data responsibly, ensuring that analyses and representations accurately reflect the information contained within the datasets.\n",
    "\n",
    "### 2.1 Load the wildfire data using the wildfire Reader object\n",
    "In the following cells we provide small code snippets that do the following:\n",
    "- Create a wildfire Reader() object and use it to open the sample data file. Once, opened, we have access to the header information so we print that to show the structure of that data.\n",
    "- Use the Reader() object and the next() method to read a set of wildfire features. The small sample file should have 15 of them. \n",
    "- Print one example feature showing the dictionary data structure of a feature.\n",
    "- Access the geometry of one specific feature to get the 'ring' boundary of that specific fire - which is a list of geodetic coordinates.\n",
    "\n",
    "Note that some of the output cells are quite long. Once you understand what they are illustrating you might want to collapse them or comment out the print statements that generate the output.\n",
    "\n",
    "Another note regarding terminology. In the GeoJSON standard, something that is to be represented geographically is generically called a 'feature'. In the case of the wildfire dataset every 'feature' is a wildfire. These terms are used somewhat interchangably below."
   ]
  },
  {
   "cell_type": "code",
   "execution_count": 4,
   "metadata": {},
   "outputs": [
    {
     "name": "stdout",
     "output_type": "stream",
     "text": [
      "Attempting to open '../data/input_data/USGS_Wildland_Fire_Combined_Dataset.json' with wildfire.Reader() object\n",
      "\n",
      "The header has the following keys:\n",
      "['displayFieldName', 'fieldAliases', 'geometryType', 'spatialReference', 'fields']\n",
      "\n",
      "Header Dictionary\n",
      "{\n",
      "    \"displayFieldName\": \"\",\n",
      "    \"fieldAliases\": {\n",
      "        \"OBJECTID\": \"OBJECTID\",\n",
      "        \"USGS_Assigned_ID\": \"USGS Assigned ID\",\n",
      "        \"Assigned_Fire_Type\": \"Assigned Fire Type\",\n",
      "        \"Fire_Year\": \"Fire Year\",\n",
      "        \"Fire_Polygon_Tier\": \"Fire Polygon Tier\",\n",
      "        \"Fire_Attribute_Tiers\": \"Fire Attribute Tiers\",\n",
      "        \"GIS_Acres\": \"GIS_Acres\",\n",
      "        \"GIS_Hectares\": \"GIS_Hectares\",\n",
      "        \"Source_Datasets\": \"Source Datasets\",\n",
      "        \"Listed_Fire_Types\": \"Listed Fire Types\",\n",
      "        \"Listed_Fire_Names\": \"Listed Fire Names\",\n",
      "        \"Listed_Fire_Codes\": \"Listed Fire Codes\",\n",
      "        \"Listed_Fire_IDs\": \"Listed Fire IDs\",\n",
      "        \"Listed_Fire_IRWIN_IDs\": \"Listed Fire IRWIN IDs\",\n",
      "        \"Listed_Fire_Dates\": \"Listed Fire Dates\",\n",
      "        \"Listed_Fire_Causes\": \"Listed Fire Causes\",\n",
      "        \"Listed_Fire_Cause_Class\": \"Listed Fire Cause Class\",\n",
      "        \"Listed_Rx_Reported_Acres\": \"Listed Rx Reported Acres\",\n",
      "        \"Listed_Map_Digitize_Methods\": \"Listed Map Digitize Methods\",\n",
      "        \"Listed_Notes\": \"Listed Notes\",\n",
      "        \"Processing_Notes\": \"Processing Notes\",\n",
      "        \"Wildfire_Notice\": \"Wildfire Notice\",\n",
      "        \"Prescribed_Burn_Notice\": \"Prescribed Burn Notice\",\n",
      "        \"Wildfire_and_Rx_Flag\": \"Wildfire and Rx Flag\",\n",
      "        \"Overlap_Within_1_or_2_Flag\": \"Overlap Within 1 or 2 Years Flag\",\n",
      "        \"Circleness_Scale\": \"Circleness Scale\",\n",
      "        \"Circle_Flag\": \"Circle Flag\",\n",
      "        \"Exclude_From_Summary_Rasters\": \"Exclude From Summary Rasters\",\n",
      "        \"Shape_Length\": \"Shape_Length\",\n",
      "        \"Shape_Area\": \"Shape_Area\"\n",
      "    },\n",
      "    \"geometryType\": \"esriGeometryPolygon\",\n",
      "    \"spatialReference\": {\n",
      "        \"wkid\": 102008,\n",
      "        \"latestWkid\": 102008\n",
      "    },\n",
      "    \"fields\": [\n",
      "        {\n",
      "            \"name\": \"OBJECTID\",\n",
      "            \"type\": \"esriFieldTypeOID\",\n",
      "            \"alias\": \"OBJECTID\"\n",
      "        },\n",
      "        {\n",
      "            \"name\": \"USGS_Assigned_ID\",\n",
      "            \"type\": \"esriFieldTypeInteger\",\n",
      "            \"alias\": \"USGS Assigned ID\"\n",
      "        },\n",
      "        {\n",
      "            \"name\": \"Assigned_Fire_Type\",\n",
      "            \"type\": \"esriFieldTypeString\",\n",
      "            \"alias\": \"Assigned Fire Type\",\n",
      "            \"length\": 100\n",
      "        },\n",
      "        {\n",
      "            \"name\": \"Fire_Year\",\n",
      "            \"type\": \"esriFieldTypeSmallInteger\",\n",
      "            \"alias\": \"Fire Year\"\n",
      "        },\n",
      "        {\n",
      "            \"name\": \"Fire_Polygon_Tier\",\n",
      "            \"type\": \"esriFieldTypeSmallInteger\",\n",
      "            \"alias\": \"Fire Polygon Tier\"\n",
      "        },\n",
      "        {\n",
      "            \"name\": \"Fire_Attribute_Tiers\",\n",
      "            \"type\": \"esriFieldTypeString\",\n",
      "            \"alias\": \"Fire Attribute Tiers\",\n",
      "            \"length\": 30000\n",
      "        },\n",
      "        {\n",
      "            \"name\": \"GIS_Acres\",\n",
      "            \"type\": \"esriFieldTypeDouble\",\n",
      "            \"alias\": \"GIS_Acres\"\n",
      "        },\n",
      "        {\n",
      "            \"name\": \"GIS_Hectares\",\n",
      "            \"type\": \"esriFieldTypeDouble\",\n",
      "            \"alias\": \"GIS_Hectares\"\n",
      "        },\n",
      "        {\n",
      "            \"name\": \"Source_Datasets\",\n",
      "            \"type\": \"esriFieldTypeString\",\n",
      "            \"alias\": \"Source Datasets\",\n",
      "            \"length\": 500000\n",
      "        },\n",
      "        {\n",
      "            \"name\": \"Listed_Fire_Types\",\n",
      "            \"type\": \"esriFieldTypeString\",\n",
      "            \"alias\": \"Listed Fire Types\",\n",
      "            \"length\": 100000\n",
      "        },\n",
      "        {\n",
      "            \"name\": \"Listed_Fire_Names\",\n",
      "            \"type\": \"esriFieldTypeString\",\n",
      "            \"alias\": \"Listed Fire Names\",\n",
      "            \"length\": 100000\n",
      "        },\n",
      "        {\n",
      "            \"name\": \"Listed_Fire_Codes\",\n",
      "            \"type\": \"esriFieldTypeString\",\n",
      "            \"alias\": \"Listed Fire Codes\",\n",
      "            \"length\": 100000\n",
      "        },\n",
      "        {\n",
      "            \"name\": \"Listed_Fire_IDs\",\n",
      "            \"type\": \"esriFieldTypeString\",\n",
      "            \"alias\": \"Listed Fire IDs\",\n",
      "            \"length\": 30000\n",
      "        },\n",
      "        {\n",
      "            \"name\": \"Listed_Fire_IRWIN_IDs\",\n",
      "            \"type\": \"esriFieldTypeString\",\n",
      "            \"alias\": \"Listed Fire IRWIN IDs\",\n",
      "            \"length\": 30000\n",
      "        },\n",
      "        {\n",
      "            \"name\": \"Listed_Fire_Dates\",\n",
      "            \"type\": \"esriFieldTypeString\",\n",
      "            \"alias\": \"Listed Fire Dates\",\n",
      "            \"length\": 500000\n",
      "        },\n",
      "        {\n",
      "            \"name\": \"Listed_Fire_Causes\",\n",
      "            \"type\": \"esriFieldTypeString\",\n",
      "            \"alias\": \"Listed Fire Causes\",\n",
      "            \"length\": 100000\n",
      "        },\n",
      "        {\n",
      "            \"name\": \"Listed_Fire_Cause_Class\",\n",
      "            \"type\": \"esriFieldTypeString\",\n",
      "            \"alias\": \"Listed Fire Cause Class\",\n",
      "            \"length\": 100000\n",
      "        },\n",
      "        {\n",
      "            \"name\": \"Listed_Rx_Reported_Acres\",\n",
      "            \"type\": \"esriFieldTypeString\",\n",
      "            \"alias\": \"Listed Rx Reported Acres\",\n",
      "            \"length\": 10000\n",
      "        },\n",
      "        {\n",
      "            \"name\": \"Listed_Map_Digitize_Methods\",\n",
      "            \"type\": \"esriFieldTypeString\",\n",
      "            \"alias\": \"Listed Map Digitize Methods\",\n",
      "            \"length\": 100000\n",
      "        },\n",
      "        {\n",
      "            \"name\": \"Listed_Notes\",\n",
      "            \"type\": \"esriFieldTypeString\",\n",
      "            \"alias\": \"Listed Notes\",\n",
      "            \"length\": 30000\n",
      "        },\n",
      "        {\n",
      "            \"name\": \"Processing_Notes\",\n",
      "            \"type\": \"esriFieldTypeString\",\n",
      "            \"alias\": \"Processing Notes\",\n",
      "            \"length\": 30000\n",
      "        },\n",
      "        {\n",
      "            \"name\": \"Wildfire_Notice\",\n",
      "            \"type\": \"esriFieldTypeString\",\n",
      "            \"alias\": \"Wildfire Notice\",\n",
      "            \"length\": 700\n",
      "        },\n",
      "        {\n",
      "            \"name\": \"Prescribed_Burn_Notice\",\n",
      "            \"type\": \"esriFieldTypeString\",\n",
      "            \"alias\": \"Prescribed Burn Notice\",\n",
      "            \"length\": 700\n",
      "        },\n",
      "        {\n",
      "            \"name\": \"Wildfire_and_Rx_Flag\",\n",
      "            \"type\": \"esriFieldTypeString\",\n",
      "            \"alias\": \"Wildfire and Rx Flag\",\n",
      "            \"length\": 1000\n",
      "        },\n",
      "        {\n",
      "            \"name\": \"Overlap_Within_1_or_2_Flag\",\n",
      "            \"type\": \"esriFieldTypeString\",\n",
      "            \"alias\": \"Overlap Within 1 or 2 Years Flag\",\n",
      "            \"length\": 8000\n",
      "        },\n",
      "        {\n",
      "            \"name\": \"Circleness_Scale\",\n",
      "            \"type\": \"esriFieldTypeDouble\",\n",
      "            \"alias\": \"Circleness Scale\"\n",
      "        },\n",
      "        {\n",
      "            \"name\": \"Circle_Flag\",\n",
      "            \"type\": \"esriFieldTypeSmallInteger\",\n",
      "            \"alias\": \"Circle Flag\"\n",
      "        },\n",
      "        {\n",
      "            \"name\": \"Exclude_From_Summary_Rasters\",\n",
      "            \"type\": \"esriFieldTypeString\",\n",
      "            \"alias\": \"Exclude From Summary Rasters\",\n",
      "            \"length\": 3\n",
      "        },\n",
      "        {\n",
      "            \"name\": \"Shape_Length\",\n",
      "            \"type\": \"esriFieldTypeDouble\",\n",
      "            \"alias\": \"Shape_Length\"\n",
      "        },\n",
      "        {\n",
      "            \"name\": \"Shape_Area\",\n",
      "            \"type\": \"esriFieldTypeDouble\",\n",
      "            \"alias\": \"Shape_Area\"\n",
      "        }\n",
      "    ]\n",
      "}\n"
     ]
    }
   ],
   "source": [
    "#    This bit of code opens a new wildfire reader, gets the header information and prints it to the screen\n",
    "print(f\"Attempting to open '{DATA_FILENAME}' with wildfire.Reader() object\")\n",
    "wfreader = WFReader(DATA_FILENAME)\n",
    "print()\n",
    "\n",
    "#    Now print the header - it contains some useful information\n",
    "header_dict = wfreader.header()\n",
    "header_keys = list(header_dict.keys())\n",
    "print(\"The header has the following keys:\")\n",
    "print(header_keys)\n",
    "print()\n",
    "print(\"Header Dictionary\")\n",
    "print(json.dumps(header_dict,indent=4))"
   ]
  },
  {
   "cell_type": "code",
   "execution_count": 5,
   "metadata": {},
   "outputs": [
    {
     "name": "stdout",
     "output_type": "stream",
     "text": [
      "Loaded 10000 features\n",
      "Loaded 20000 features\n",
      "Loaded 30000 features\n",
      "Loaded 40000 features\n",
      "Loaded 50000 features\n",
      "Loaded 60000 features\n",
      "Loaded 70000 features\n",
      "Loaded 80000 features\n",
      "Loaded 90000 features\n",
      "Loaded 100000 features\n",
      "Loaded 110000 features\n",
      "Loaded 120000 features\n",
      "Loaded 130000 features\n",
      "Loaded a total of 135061 features\n",
      "Variable 'feature_list' contains 135061 features\n"
     ]
    }
   ],
   "source": [
    "#    This code will load the whole sample file, or a small amount of the complete dataset.\n",
    "#MAX_FEATURE_LOAD = 100\n",
    "feature_list = list()\n",
    "feature_count = 0\n",
    "\n",
    "# A rewind() on the reader object makes sure we're at the start of the feature list\n",
    "# This way, we can execute this cell multiple times and get the same result\n",
    "wfreader.rewind()\n",
    "\n",
    "# Now, read through each of the features, saving them as dictionaries into a list\n",
    "feature = wfreader.next()\n",
    "while feature:\n",
    "    feature_list.append(feature)\n",
    "    feature_count += 1\n",
    "    # if we're loading a lot of features, print progress\n",
    "    if (feature_count % 10000) == 0:\n",
    "        print(f\"Loaded {feature_count} features\")\n",
    "    # loaded the max we're allowed then break\n",
    "    # if feature_count >= MAX_FEATURE_LOAD:\n",
    "    #     break\n",
    "    feature = wfreader.next()\n",
    "\n",
    "#    Print the number of items (features) we think we loaded\n",
    "print(f\"Loaded a total of {feature_count} features\")\n",
    "\n",
    "#    Just a validation check - did all the items we loaded get into the list?\n",
    "print(f\"Variable 'feature_list' contains {len(feature_list)} features\")"
   ]
  },
  {
   "cell_type": "markdown",
   "metadata": {},
   "source": [
    "The 'feature_list' variable was created when we read the sample file in a code cell above. To look at a single feature, uncomment and run the code. There are a lot of features, so I have commented it out to avoid space issues while uploading to github."
   ]
  },
  {
   "cell_type": "code",
   "execution_count": 6,
   "metadata": {},
   "outputs": [],
   "source": [
    "SLOT = 0\n",
    "wf_feature = feature_list[SLOT]\n",
    "# print(f\"The wildfire feature from slot '{SLOT}' of the loaded 'feature_list'\")\n",
    "# print(json.dumps(wf_feature, indent=4))"
   ]
  },
  {
   "cell_type": "markdown",
   "metadata": {},
   "source": [
    "Every feature has a 'geometry' which specifies geo coordinates that make up each geographic thing. In the case of the wildfire data, most wildfires are bounded shapes, circles, squares, etc. This is represented by shapes called 'rings' in GeoJSON."
   ]
  },
  {
   "cell_type": "code",
   "execution_count": 7,
   "metadata": {},
   "outputs": [
    {
     "name": "stdout",
     "output_type": "stream",
     "text": [
      "The largest ring of wf_feature['features'][0]['rings'] consists of 768 points.\n"
     ]
    }
   ],
   "source": [
    "# Get the geometry for the feature we pulled from the feature_list\n",
    "wf_geometry = wf_feature['geometry']\n",
    "# The largest shape (ring) is supposed to be item zero in the list of 'rings'\n",
    "wf_bigest_ring = wf_geometry['rings'][0]\n",
    "\n",
    "print(f\"The largest ring of wf_feature['features'][{SLOT}]['rings'] consists of {len(wf_bigest_ring)} points.\")"
   ]
  },
  {
   "cell_type": "markdown",
   "metadata": {},
   "source": [
    "GeoPandas offers geometrical types to represent spatial data, including both curve rings and standard rings.\n",
    "- **Standard Rings:** Typically refer to polygonal geometries, which are defined as a sequence of connected line segments that entirely enclose a space. Each polygon may contain one or more rings:\n",
    "    - Exterior Ring: The outer boundary of a polygon.\n",
    "    - Interior Rings: Also known as holes, these are areas within the polygon that are not part of it. They represent exclusions within the polygon area.\n",
    "- **Curve Rings:** Geometrical representations that utilize curved line segments. In GeoPandas, the use of curve geometries enables the modeling of more complex shapes through functions like offset_curve. These curves can create smoother transitions and are particularly beneficial in cases where the geometry reflects natural features or when modeling phenomena such as fire perimeters and smooth boundaries."
   ]
  },
  {
   "cell_type": "markdown",
   "metadata": {},
   "source": [
    "### 2.2 Convert points between geodetic coordinate systems\n",
    "\n",
    "One of the constraints in doing geodetic computations is that most of the time we need to have our points (the coordinates for places) in the same geographic coordinate system. There are tons and tons of coordinate systems. You can find descriptions of many of them at [EPSG.io](https://epsg.io).\n",
    "\n",
    "Looking at the wildfire header information, you can find this in the output of Example 1 (above), we can see fields named \"geometryType\" and \"spatialReference\". This looks like:\n",
    "\n",
    "        \"geometryType\": \"esriGeometryPolygon\",\n",
    "        \"spatialReference\": {\n",
    "            \"wkid\": 102008,\n",
    "            \"latestWkid\": 102008\n",
    "        },\n",
    "\n",
    "This indicates that the geometry of our wildfire data are generic polygons and that they are expressed in a coordinate system with the well-known ID (WKID) 102008. This coordinate system is also known as [ESRI:102008](https://epsg.io/102008)\n",
    "\n",
    "If you look back, you might have wondered about the line of code that says:\n",
    "\n",
    "    geocalc = Geod(ellps='WGS84')         # Use WGS84 ellipsoid representation of the earth\n",
    "\n",
    "That string, 'WGS84', is a representation of the earth, that also relies on a well known coordinate system that is sometimes called 'decimal degrees' (DD). That decimal degrees system has an official name (or WKID) of [EPSG:4326](https://epsg.io/4326).\n",
    "\n",
    "In the code below, we're going to do is take the geometry of a fire feature, extract the largest ring (i.e., the largest boundary of the fire) and convert all of the points in that ring from the ESRI:102008 coordinate system to EPSG:4326 coordinates. It turns out that the easy way to get locations for a city is to make a Google query for the location. That will respond with a decimal degress version of latitued and longitude. So, this allows us to move everything into decimal degress before we perform a distance calcluation.\n"
   ]
  },
  {
   "cell_type": "code",
   "execution_count": 8,
   "metadata": {},
   "outputs": [],
   "source": [
    "#    Transform feature geometry data\n",
    "#    The function takes one parameter, a list of ESRI:102008 coordinates that will be transformed to EPSG:4326\n",
    "#    The function returns a list of coordinates in EPSG:4326\n",
    "def convert_ring_to_epsg4326(ring_data=None):\n",
    "    converted_ring = list()\n",
    "\n",
    "    # We use a pyproj transformer that converts from ESRI:102008 to EPSG:4326 to transform the list of coordinates\n",
    "    to_epsg4326 = Transformer.from_crs(\"ESRI:102008\",\"EPSG:4326\")\n",
    "    # We'll run through the list transforming each ESRI:102008 x,y coordinate into a decimal degree lat,lon\n",
    "    for coord in ring_data:\n",
    "        lat,lon = to_epsg4326.transform(coord[0],coord[1])\n",
    "        new_coord = lat,lon\n",
    "        converted_ring.append(new_coord)\n",
    "    return converted_ring"
   ]
  },
  {
   "cell_type": "code",
   "execution_count": 9,
   "metadata": {},
   "outputs": [
    {
     "name": "stdout",
     "output_type": "stream",
     "text": [
      "Ring consists of 768 points.\n"
     ]
    }
   ],
   "source": [
    "#   Convert one ring from the default to EPSG\n",
    "ring_in_epsg4326 = convert_ring_to_epsg4326(wf_bigest_ring)\n",
    "print(f\"Ring consists of {len(ring_in_epsg4326)} points.\")\n",
    "\n",
    "#    If you want to print them out you can see what they look like converted - I have commented it out to avoid space issues.\n",
    "# print(ring_in_epsg4326)\n",
    "# for point in ring_in_epsg4326:\n",
    "#    print(f\"{point[0]},{point[1]}\")"
   ]
  },
  {
   "cell_type": "markdown",
   "metadata": {},
   "source": [
    "### 2.3 Compute distance between a place and a wildfire\n",
    "\n",
    "The basic problem is knowing how far away a fire is from some location (like a city). One issue is that fires are irregularly shaped so the actual answer to that is a bit dependent upon the exact shape and how you want to think about the notion of 'distance'. For example, should we just find the closest point on the perimiter of a fire and call that the distance? Maybe we should find the centroid of the region, identify that as a geolocation (coordinate) and then calculate the distance to that? We can come up with numerous other ways.\n",
    "\n",
    "The function defined below calculates the average distance of all perimeter points to the city (place) and returns that average as the distance. This is not quite what the centroid would be, but it is probably fairly close. This is one way to think about possible distance to a fire."
   ]
  },
  {
   "cell_type": "code",
   "execution_count": 10,
   "metadata": {},
   "outputs": [],
   "source": [
    "#    The function takes two parameters\n",
    "#        A place - which is coordinate point (list or tuple with two items, (lat,lon) in decimal degrees EPSG:4326\n",
    "#        Ring_data - a list of decimal degree coordinates for the fire boundary\n",
    "#\n",
    "#    The function returns the average miles from boundary to the place\n",
    "def average_distance_from_place_to_fire_perimeter(place=None,ring_data=None):\n",
    "    # convert the ring data to the right coordinate system\n",
    "    ring = convert_ring_to_epsg4326(ring_data)    \n",
    "    # create a epsg4326 compliant object - which is what the WGS84 ellipsoid is\n",
    "    geodcalc = Geod(ellps='WGS84')\n",
    "    # create a list to store our results\n",
    "    distances_in_meters = list()\n",
    "    # run through each point in the converted ring data\n",
    "    for point in ring:\n",
    "        # calculate the distance\n",
    "        d = geodcalc.inv(place[1],place[0],point[1],point[0])\n",
    "        distances_in_meters.append(d[2])\n",
    "    # convert meters to miles\n",
    "    distances_in_miles = [meters*0.00062137 for meters in distances_in_meters]\n",
    "    # the esri polygon shape (the ring) requires that the first and last coordinates be identical to 'close the region\n",
    "    # we remove one of them so that we don't bias our average by having two of the same point\n",
    "    distances_in_miles_no_dup = distances_in_miles[1:]\n",
    "    # now, average miles\n",
    "    average = sum(distances_in_miles_no_dup)/len(distances_in_miles_no_dup)\n",
    "    return average"
   ]
  },
  {
   "cell_type": "markdown",
   "metadata": {},
   "source": [
    "According to the instructions, the smoke estimate should only consider fires within 650 miles of Vancouver, WA and that too for the past 60 years (1964 - 2024). We will handle this in the next notebook.\n",
    "\n",
    "To compute the distance, we will make use of the above function that gets us the average distance to all the places in the perimeter. "
   ]
  },
  {
   "cell_type": "code",
   "execution_count": 11,
   "metadata": {},
   "outputs": [
    {
     "name": "stdout",
     "output_type": "stream",
     "text": [
      "135060 of 135061 ( 100.0 %)\n",
      "\n",
      "Fire 'Oak Basin (1)' (0.97 acres) from 2020 was an average 92.76 miles to Vancouver\n"
     ]
    }
   ],
   "source": [
    "#  Get vancouver from our CITY_LOCATIONS constant as our starting position\n",
    "place = CITY_LOCATIONS[\"vancouver\"]\n",
    "\n",
    "valid_attribute_list = []\n",
    "rings_count = 0\n",
    "curveRings_count = 0\n",
    "error_count = 0\n",
    "\n",
    "for idx, wf_feature in enumerate(feature_list):\n",
    "    print(idx, \"of\", len(feature_list), \"(\", round(idx*100/len(feature_list), 1), \"%)\")\n",
    "    wf_attributes = wf_feature['attributes']\n",
    "    wf_id = wf_attributes['OBJECTID']\n",
    "    wf_year = wf_attributes['Fire_Year']\n",
    "    wf_name = wf_attributes['Listed_Fire_Names'].split(',')[0]\n",
    "    wf_size =wf_attributes['GIS_Acres']\n",
    "\n",
    "    # We will estimate the wildfire data for (1961-2024).\n",
    "    if wf_year >= 1961:\n",
    "        \n",
    "        # Try to extract the first ring\n",
    "        if 'rings' in wf_feature['geometry']:\n",
    "            ring_data = wf_feature['geometry']['rings'][0]\n",
    "            rings_count += 1\n",
    "            #  Compute using the average distance to all points on the perimeter\n",
    "            average_distance = average_distance_from_place_to_fire_perimeter(place['latlon'],ring_data)\n",
    "            print(f\"\\nFire '{wf_name}' ({wf_size:1.2f} acres) from {wf_year} was an average {average_distance:1.2f} miles to {place['city']}\")\n",
    "        # Suppose there is no first ring, check if it has cureveRings\n",
    "        elif 'curveRings' in wf_feature['geometry']:\n",
    "            ring_data = wf_feature['geometry']['curveRings'][0]\n",
    "            curveRings_count += 1\n",
    "            average_distance = -1\n",
    "            print(\"\\n Skipped: Unable to calcualte the distance when the geometry is curved ring.\")\n",
    "        else:\n",
    "            error_count += 1\n",
    "            print(\"No compatible geometry in this fire data: \", wf_id)\n",
    "            average_distance = -1\n",
    "\n",
    "        # only consider valid fires within 650 miles from Vancouver\n",
    "        if average_distance > -1:\n",
    "                wf_attributes['average_distance'] = average_distance\n",
    "                valid_attribute_list.append(wf_attributes)   \n",
    "    else:\n",
    "         print(\"\\n Skipped: \", wf_year, \" is not in the year range (1964 - 2024)\")\n",
    "    \n",
    "    clear_output(wait=True)\n",
    "\n",
    "# Create a DataFrame from the list of feature dictionaries\n",
    "df = pd.DataFrame(valid_attribute_list)"
   ]
  },
  {
   "cell_type": "markdown",
   "metadata": {},
   "source": [
    "If the wildfire area can be represented as a polygon (for example, the area burned), we can use GeoPandas to create a Polygon representing the wildfire perimeter. The locations of interest (residential areas, facilities) can also be represented as points.\n",
    "\n",
    "Standard Rings are typically defined as polygons where the perimeter is constructed from a series of straight-line segments. The current averge distance computation supports standard rings.\n",
    "\n",
    "Curve Rings are more complex as they consist of curved line segments instead of straight edges. If we need to incorporate curve rings, we will have to handle them slightly differently since the coordinates will not form simple linear paths. This is not a part of the current implementation"
   ]
  },
  {
   "cell_type": "code",
   "execution_count": 12,
   "metadata": {},
   "outputs": [
    {
     "name": "stdout",
     "output_type": "stream",
     "text": [
      "Successfully obtained average distances for  118465 instances of standard rings.\n",
      "\n",
      "Unable to obtain distances for 35 instances as the geometrical type was Curved rings and\n",
      "we cannot accurately measure the distance in these cases.\n"
     ]
    }
   ],
   "source": [
    "print(\"Successfully obtained average distances for \", rings_count, \"instances of standard rings.\")\n",
    "print(\"\\nUnable to obtain distances for\", curveRings_count, \"instances as the geometrical type was Curved rings and\") \n",
    "print(\"we cannot accurately measure the distance in these cases.\")\n",
    "# print(error_count, \" had unknown geomertry. In these cases as well, we cannot accurately measure the distance.\")"
   ]
  },
  {
   "cell_type": "markdown",
   "metadata": {},
   "source": [
    "There were none with unknown geometry, so that's good!\n",
    "\n",
    "I tried modifying the script to include complex geometries to handle the Curve Ring cases, however, existing libraries (such as shapely.geometry) were not built to handle complex cases. Since we only have 35 such instances, for now let us ignore these cases.\n",
    "\n",
    "## 3 Save the acquired data\n",
    "\n",
    "Let us now save the data for future reference."
   ]
  },
  {
   "cell_type": "code",
   "execution_count": 13,
   "metadata": {},
   "outputs": [
    {
     "name": "stdout",
     "output_type": "stream",
     "text": [
      "Successfully saved the acquired data!\n"
     ]
    }
   ],
   "source": [
    "df.to_csv(\"../data/intermediate_data/wildfire_dataset_with_distance.csv\")\n",
    "print(\"Successfully saved the acquired data!\")"
   ]
  },
  {
   "cell_type": "markdown",
   "metadata": {},
   "source": [
    "We only have to obtain the wildfire data when the fire occured during the annual fire season (from May 1st through October 31st). We will take this condition into consideration while obtained the smoke estimate in the next step.\n"
   ]
  },
  {
   "cell_type": "code",
   "execution_count": null,
   "metadata": {},
   "outputs": [],
   "source": []
  }
 ],
 "metadata": {
  "kernelspec": {
   "display_name": "Python 3",
   "language": "python",
   "name": "python3"
  },
  "language_info": {
   "codemirror_mode": {
    "name": "ipython",
    "version": 3
   },
   "file_extension": ".py",
   "mimetype": "text/x-python",
   "name": "python",
   "nbconvert_exporter": "python",
   "pygments_lexer": "ipython3",
   "version": "3.9.6"
  }
 },
 "nbformat": 4,
 "nbformat_minor": 2
}
